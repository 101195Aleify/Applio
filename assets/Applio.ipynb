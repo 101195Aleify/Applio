{
  "cells": [
    {
      "cell_type": "code",
      "execution_count": null,
      "metadata": {
        "cellView": "form",
        "colab": {
          "base_uri": "https://localhost:8080/"
        },
        "id": "vtON700qokuQ",
        "outputId": "f2e96749-d738-4089-b966-14ee5cd1856f"
      },
      "outputs": [],
      "source": [
        "# @title **Install Applio**\n",
        "\n",
        "import codecs\n",
        "import time\n",
        "\n",
        "orig_name_of_program = codecs.decode(\"Nccyvb\", \"rot_13\")\n",
        "new_name_of_program = codecs.decode(\"cebtenz\", \"rot_13\")\n",
        "uioawhd = codecs.decode(\"uggcf://tvguho.pbz/VNUvfcnab/Nccyvb.tvg\", \"rot_13\")\n",
        "uyadwa = codecs.decode(\"ncc.cl\", \"rot_13\")\n",
        "\n",
        "from IPython.display import clear_output, Javascript\n",
        "\n",
        "!git clone --depth 1 $uioawhd\n",
        "!mv $orig_name_of_program $new_name_of_program\n",
        "%cd $new_name_of_program/\n",
        "\n",
        "clear_output()\n",
        "file_path = \"requirements.txt\"\n",
        "!pip install -r \"requirements.txt\" --quiet\n",
        "\n",
        "clear_output()\n",
        "print(\"Finished installing requirements!\")"
      ]
    },
    {
      "cell_type": "code",
      "execution_count": null,
      "metadata": {
        "cellView": "form",
        "colab": {
          "base_uri": "https://localhost:8080/"
        },
        "id": "-7cQtXouqpQi",
        "outputId": "242be0b2-15bc-4b90-e9c4-d9ab42ec7e29"
      },
      "outputs": [],
      "source": [
        "# @title **Start Applio**\n",
        "import codecs\n",
        "uyadwa = codecs.decode(\"ncc.cl\", \"rot_13\")\n",
        "\n",
        "%load_ext tensorboard\n",
        "%reload_ext tensorboard\n",
        "%tensorboard --logdir logs --bind_all\n",
        "\n",
        "!python $uyadwa --share"
      ]
    },
    {
      "cell_type": "markdown",
      "metadata": {
        "id": "ymhGfgFSR17k"
      },
      "source": [
        "## **Credits**\n",
        "- Special thanks to [Hina](https://github.com/hinabl) 💗\n",
        "- [Blaise](https://github.com/blaise-tk) and [Applio Team](https://github.com/IAHispano)"
      ]
    }
  ],
  "metadata": {
    "accelerator": "GPU",
    "colab": {
      "gpuType": "T4",
      "provenance": []
    },
    "kernelspec": {
      "display_name": "Python 3",
      "name": "python3"
    },
    "language_info": {
      "name": "python"
    }
  },
  "nbformat": 4,
  "nbformat_minor": 0
}
